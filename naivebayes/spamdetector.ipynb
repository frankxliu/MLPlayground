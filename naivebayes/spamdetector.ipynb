{
 "cells": [
  {
   "cell_type": "code",
   "execution_count": 36,
   "metadata": {},
   "outputs": [
    {
     "name": "stdout",
     "output_type": "stream",
     "text": [
      "MultinomialNB()\n"
     ]
    },
    {
     "data": {
      "text/plain": [
       "array(['spam', 'ham'], dtype='<U4')"
      ]
     },
     "execution_count": 36,
     "metadata": {},
     "output_type": "execute_result"
    }
   ],
   "source": [
    "\"\"\"\n",
    "    I do not claim ownership of this code. This code has been adapted from the\n",
    "    'Machine Learning, Data Science and Generative AI with Python' course by\n",
    "    Frank Kane on Udemy.com. This is simply a playground with annotations for \n",
    "    personal understanding.\n",
    "\"\"\"\n",
    "\n",
    "import os\n",
    "import io\n",
    "import numpy as np\n",
    "import pandas as pd\n",
    "from pandas import DataFrame\n",
    "from sklearn.feature_extraction.text import CountVectorizer\n",
    "from sklearn.naive_bayes import MultinomialNB\n",
    "\n",
    "def readFiles(path):\n",
    "    # os.walk() returns a tuple, recursively walking through each directory\n",
    "    #  until sub-directories are exhausted\n",
    "    for root, dirnames, filenames in os.walk(path):\n",
    "        for filename in filenames:\n",
    "            path = os.path.join(root, filename)\n",
    "\n",
    "            inBody = False\n",
    "            lines = []\n",
    "            f = io.open(path, 'r', encoding='latin1')\n",
    "            for line in f:\n",
    "                if inBody:\n",
    "                    lines.append(line)\n",
    "                # a blank line exists before the body of the email \n",
    "                elif line == '\\n':\n",
    "                    inBody = True\n",
    "            f.close()\n",
    "            message = '\\n'.join(lines)\n",
    "            # yield suspends the function saving state and returning value; this function\n",
    "            #  becomes a generator function and is iterable\n",
    "            yield path, message \n",
    "                \n",
    "\n",
    "\n",
    "def dataFrameFromDirectory(path, classification):\n",
    "    rows = []\n",
    "    index = []\n",
    "    for filename, message in readFiles(path):\n",
    "        rows.append({'message': message, 'class': classification})\n",
    "        index.append(filename)\n",
    "    return DataFrame(rows, index=index)\n",
    "\n",
    "data = DataFrame({'message':[], 'class':[]})\n",
    "data = pd.concat([data, dataFrameFromDirectory(\"emails/spam\", \"spam\")])\n",
    "data = pd.concat([data, dataFrameFromDirectory(\"emails/ham\", \"ham\")])\n",
    "data.head()\n",
    "\n",
    "# CountVectorizer() convert collection of text documents to matrix of token \n",
    "#  count -> coverts each message into its list of words\n",
    "vectorizer = CountVectorizer()\n",
    "# fit_transform() learns vocabulary dictionary, returning document-term matrix\n",
    "counts = vectorizer.fit_transform(data['message'].values)\n",
    "\n",
    "# MultinomialNB is a naive bayes classifier for multinomial models\n",
    "classifier = MultinomialNB()\n",
    "targets = data['class'].values\n",
    "# classifier.fit() fits naive bays classifier to X, y -> trains the filter based\n",
    "#  token matrix from string\n",
    "classifier.fit(counts, targets)\n",
    "\n",
    "examples = ['Free Viagra now!!!', \"Hi Bob, how about a game of golf tomorrow?\"]\n",
    "# vectorizer.transform converts each message into list of words and their frequencies\n",
    "#  where the words are represented by positions in an array; this is needed to\n",
    "#  obtain same format that was originally trained for the model\n",
    "example_counts = vectorizer.transform(examples)\n",
    "predictions = classifier.predict(example_counts)\n",
    "predictions\n",
    "\n",
    "# => array(['spam', 'ham'], dtype='<U4')\n",
    "\n",
    "\n"
   ]
  },
  {
   "cell_type": "code",
   "execution_count": null,
   "metadata": {},
   "outputs": [],
   "source": []
  }
 ],
 "metadata": {
  "kernelspec": {
   "display_name": "mlplayground",
   "language": "python",
   "name": "python3"
  },
  "language_info": {
   "codemirror_mode": {
    "name": "ipython",
    "version": 3
   },
   "file_extension": ".py",
   "mimetype": "text/x-python",
   "name": "python",
   "nbconvert_exporter": "python",
   "pygments_lexer": "ipython3",
   "version": "3.9.1"
  }
 },
 "nbformat": 4,
 "nbformat_minor": 2
}
