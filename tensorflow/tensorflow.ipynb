{
 "cells": [
  {
   "cell_type": "code",
   "execution_count": 1,
   "metadata": {},
   "outputs": [
    {
     "ename": "NameError",
     "evalue": "name 'xtrain' is not defined",
     "output_type": "error",
     "traceback": [
      "\u001b[1;31m---------------------------------------------------------------------------\u001b[0m",
      "\u001b[1;31mNameError\u001b[0m                                 Traceback (most recent call last)",
      "\u001b[1;32mc:\\MLPlayground\\MLPlayground\\tensorflow\\tensorflow.ipynb Cell 1\u001b[0m line \u001b[0;36m1\n\u001b[0;32m     <a href='vscode-notebook-cell:/c%3A/MLPlayground/MLPlayground/tensorflow/tensorflow.ipynb#W0sZmlsZQ%3D%3D?line=9'>10</a>\u001b[0m (x_train, y_train), (x_test, y_test) \u001b[39m=\u001b[39m mnist\u001b[39m.\u001b[39mload_data()\n\u001b[0;32m     <a href='vscode-notebook-cell:/c%3A/MLPlayground/MLPlayground/tensorflow/tensorflow.ipynb#W0sZmlsZQ%3D%3D?line=11'>12</a>\u001b[0m \u001b[39m# Convert to float32\u001b[39;00m\n\u001b[1;32m---> <a href='vscode-notebook-cell:/c%3A/MLPlayground/MLPlayground/tensorflow/tensorflow.ipynb#W0sZmlsZQ%3D%3D?line=12'>13</a>\u001b[0m x_train, x_test \u001b[39m=\u001b[39m np\u001b[39m.\u001b[39marray(xtrain, np\u001b[39m.\u001b[39mfloat32), np\u001b[39m.\u001b[39marray(x_test, np\u001b[39m.\u001b[39mfloat32)\n\u001b[0;32m     <a href='vscode-notebook-cell:/c%3A/MLPlayground/MLPlayground/tensorflow/tensorflow.ipynb#W0sZmlsZQ%3D%3D?line=13'>14</a>\u001b[0m \u001b[39m# originally comes in as two dimensional 28*28 images\u001b[39;00m\n\u001b[0;32m     <a href='vscode-notebook-cell:/c%3A/MLPlayground/MLPlayground/tensorflow/tensorflow.ipynb#W0sZmlsZQ%3D%3D?line=14'>15</a>\u001b[0m \n\u001b[0;32m     <a href='vscode-notebook-cell:/c%3A/MLPlayground/MLPlayground/tensorflow/tensorflow.ipynb#W0sZmlsZQ%3D%3D?line=15'>16</a>\u001b[0m \u001b[39m# Flatten images to 1-D vector of 784 features (28*28)\u001b[39;00m\n\u001b[0;32m     <a href='vscode-notebook-cell:/c%3A/MLPlayground/MLPlayground/tensorflow/tensorflow.ipynb#W0sZmlsZQ%3D%3D?line=16'>17</a>\u001b[0m x_train, x_test \u001b[39m=\u001b[39m x_train\u001b[39m.\u001b[39mreshape([\u001b[39m-\u001b[39m\u001b[39m1\u001b[39m, num_features]), x_test\u001b[39m.\u001b[39mreshape([\u001b[39m-\u001b[39m\u001b[39m1\u001b[39m, num_features])\n",
      "\u001b[1;31mNameError\u001b[0m: name 'xtrain' is not defined"
     ]
    }
   ],
   "source": [
    "import numpy as np\n",
    "import tensorflow as tf\n",
    "from tensorflow.keras.datasets import mnist\n",
    "\n",
    "#MNSIT dataset parameters\n",
    "num_classes = 10 # total classes (0-9) digits\n",
    "num_features = 784 # data features (img shape: 28*28)\n",
    "# training features are each individual pixel of every individual image we're using to train our neural network\n",
    "\n",
    "(x_train, y_train), (x_test, y_test) = mnist.load_data()\n",
    "\n",
    "# Convert to float32\n",
    "x_train, x_test = np.array(x_train, np.float32), np.array(x_test, np.float32)\n",
    "# originally comes in as two dimensional 28*28 images\n",
    "\n",
    "# Flatten images to 1-D vector of 784 features (28*28)\n",
    "x_train, x_test = x_train.reshape([-1, num_features]), x_test.reshape([-1, num_features])\n",
    "\n",
    "# Normalize images value from [0, 255] to [0,1]\n",
    "x_train, x_test = x_train / 255., x_test/255.\n",
    "# 0 represents a black pixel\n",
    "# 255 represents a white pixel\n",
    "# values in between represent various shades of gray\n",
    "\n",
    "# training images are therefore a tensor of shape[60000, 784] - 60000 instances of 784 numbers that represent each image\n",
    "# training labels are one-dimensional tensor of 60000 labels that range from 0 - 9\n",
    "\n",
    "import matplotlib.pyplot as plt\n",
    "\n",
    "def display_sample(num):\n",
    "\t# print this sample's label\n",
    "\tlabel = y_train[num]\n",
    "\t\n",
    "\t# reshape the 784 values to a 28*28 image\n",
    "\timage = x_train[num].reshape([28, 28])\n",
    "\tplt.title('Sample: %d Label: %d' % (num, label))\n",
    "\tplt.imshow(image, cmap=plt.get_cmap('gray_r'))\n",
    "\tplt.show()\n",
    "\n",
    "display_sample(1000)"
   ]
  },
  {
   "cell_type": "code",
   "execution_count": null,
   "metadata": {},
   "outputs": [],
   "source": []
  }
 ],
 "metadata": {
  "kernelspec": {
   "display_name": "mlplayground",
   "language": "python",
   "name": "python3"
  },
  "language_info": {
   "codemirror_mode": {
    "name": "ipython",
    "version": 3
   },
   "file_extension": ".py",
   "mimetype": "text/x-python",
   "name": "python",
   "nbconvert_exporter": "python",
   "pygments_lexer": "ipython3",
   "version": "3.9.1"
  }
 },
 "nbformat": 4,
 "nbformat_minor": 2
}
